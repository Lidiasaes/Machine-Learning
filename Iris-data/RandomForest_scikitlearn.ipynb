{
 "cells": [
  {
   "cell_type": "code",
   "execution_count": 63,
   "metadata": {},
   "outputs": [],
   "source": [
    "from sklearn.datasets import load_iris\n",
    "from sklearn.model_selection import train_test_split\n",
    "from sklearn.metrics import accuracy_score\n",
    "import pandas as pd\n",
    "from sklearn.ensemble import RandomForestClassifier\n",
    "from sklearn.metrics import classification_report\n",
    "from sklearn.metrics import confusion_matrix\n",
    "from sklearn.metrics import multilabel_confusion_matrix"
   ]
  },
  {
   "cell_type": "code",
   "execution_count": 64,
   "metadata": {},
   "outputs": [
    {
     "name": "stdout",
     "output_type": "stream",
     "text": [
      "   feature1  feature2  feature3  feature4        class\n",
      "0       5.1       3.5       1.4       0.2  Iris-setosa\n",
      "1       4.9       3.0       1.4       0.2  Iris-setosa\n",
      "2       4.7       3.2       1.3       0.2  Iris-setosa\n",
      "3       4.6       3.1       1.5       0.2  Iris-setosa\n",
      "4       5.0       3.6       1.4       0.2  Iris-setosa\n"
     ]
    }
   ],
   "source": [
    "\"\"\" \n",
    "Opción para descargar los datos directamente desde la librería\n",
    "\n",
    "# Load the Iris dataset\n",
    "iris = load_iris()\n",
    "features = iris.data\n",
    "labels = iris.target\n",
    "\"\"\" \n",
    "\n",
    "\n",
    "\"\"\" Opción para descargar los datos desde mipath \"\"\"\n",
    "\n",
    "# Read the data from a CSV file\n",
    "data_path = \"C:/Users/User/OneDrive/Desktop/Kaggle/iris/iris.csv\"\n",
    "\n",
    "# Creo los nombres de las columnas \n",
    "column_names= [\"feature1\", \"feature2\", \"feature3\", \"feature4\", \"class\"]\n",
    "data = pd.read_csv(data_path, header=None, names=column_names)\n",
    "print(data.head())\n",
    "\n",
    "# Split the data into features and labels\n",
    "features = data.drop(\"class\", axis=1) # las features es todo menos la clase\n",
    "labels = data[\"class\"]\n",
    "\n"
   ]
  },
  {
   "cell_type": "code",
   "execution_count": 65,
   "metadata": {},
   "outputs": [],
   "source": [
    "# Split the dataset into training and testing sets\n",
    "train_features, test_features, train_labels, test_labels = train_test_split(\n",
    "    features, labels, test_size=0.3, random_state=42)\n",
    "\n",
    "# create Random Forest Classifier\n",
    "classifier = RandomForestClassifier(n_estimators=100)\n",
    "\n",
    "# train\n",
    "classifier.fit(train_features, train_labels)\n",
    "\n",
    "# predicitions\n",
    "predictions= classifier.predict(test_features)\n",
    "\n",
    "#Evaluate\n",
    "accuracy = classifier.score(test_features, test_labels)\n",
    "classification_report = classification_report(test_labels, predictions)\n",
    "confusion_mtx = confusion_matrix(test_labels, predictions)\n",
    "\n"
   ]
  },
  {
   "cell_type": "code",
   "execution_count": 66,
   "metadata": {},
   "outputs": [
    {
     "name": "stdout",
     "output_type": "stream",
     "text": [
      "Test set accuracy: 1.000\n",
      "Classification Report:\n",
      "                 precision    recall  f1-score   support\n",
      "\n",
      "    Iris-setosa       1.00      1.00      1.00        19\n",
      "Iris-versicolor       1.00      1.00      1.00        13\n",
      " Iris-virginica       1.00      1.00      1.00        13\n",
      "\n",
      "       accuracy                           1.00        45\n",
      "      macro avg       1.00      1.00      1.00        45\n",
      "   weighted avg       1.00      1.00      1.00        45\n",
      "\n",
      "Confusion matrix\n",
      " [[19  0  0]\n",
      " [ 0 13  0]\n",
      " [ 0  0 13]]\n",
      "Confusion matrix\n",
      "\n",
      "                 Iris-setosa  Iris-versicolor  Iris-virginica\n",
      "Iris-setosa               19                0               0\n",
      "Iris-versicolor            0               13               0\n",
      "Iris-virginica             0                0              13\n"
     ]
    }
   ],
   "source": [
    "## print everytihng\n",
    "print(\"Test set accuracy: {accuracy:0.3f}\".format(accuracy= accuracy))\n",
    "\n",
    "print(\"Classification Report:\")\n",
    "print(classification_report)\n",
    "\n",
    "print(\"Confusion matrix\\n\", \n",
    "      confusion_mtx)\n",
    "\n",
    "print(\"Confusion matrix\\n\")\n",
    "print(pd.DataFrame(confusion_mtx, index= labels.unique(), columns=labels.unique()))"
   ]
  }
 ],
 "metadata": {
  "kernelspec": {
   "display_name": "Python 3",
   "language": "python",
   "name": "python3"
  },
  "language_info": {
   "codemirror_mode": {
    "name": "ipython",
    "version": 3
   },
   "file_extension": ".py",
   "mimetype": "text/x-python",
   "name": "python",
   "nbconvert_exporter": "python",
   "pygments_lexer": "ipython3",
   "version": "3.10.11"
  },
  "orig_nbformat": 4
 },
 "nbformat": 4,
 "nbformat_minor": 2
}
