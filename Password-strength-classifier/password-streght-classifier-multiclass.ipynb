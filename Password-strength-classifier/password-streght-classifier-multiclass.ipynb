{
 "cells": [
  {
   "cell_type": "code",
   "execution_count": null,
   "metadata": {},
   "outputs": [],
   "source": [
    "#pip install seaborn\n",
    "#pip install nltk\n"
   ]
  },
  {
   "cell_type": "code",
   "execution_count": 1,
   "metadata": {},
   "outputs": [],
   "source": [
    "import numpy as np\n",
    "import pandas as pd\n",
    "import string\n",
    "\n",
    "import nltk \n",
    "from nltk import pos_tag\n",
    "from nltk.tokenize import word_tokenize\n",
    "import matplotlib.pyplot as plt\n",
    "from sklearn.model_selection import train_test_split\n",
    "from sklearn.preprocessing import LabelEncoder\n",
    "from sklearn.ensemble import RandomForestClassifier\n",
    "from sklearn.metrics import classification_report, accuracy_score, confusion_matrix\n",
    "from sklearn.model_selection import learning_curve\n",
    "import seaborn as sns "
   ]
  },
  {
   "cell_type": "markdown",
   "metadata": {},
   "source": [
    "# Password strength prediction classifiers"
   ]
  },
  {
   "cell_type": "markdown",
   "metadata": {},
   "source": [
    "## Random Forest"
   ]
  },
  {
   "cell_type": "markdown",
   "metadata": {},
   "source": [
    "### Preprocessing data"
   ]
  },
  {
   "cell_type": "code",
   "execution_count": 2,
   "metadata": {},
   "outputs": [
    {
     "name": "stdout",
     "output_type": "stream",
     "text": [
      "            Password  Label\n",
      "0           kzde5577      1\n",
      "1           kino3434      1\n",
      "2          visi7k1yr      1\n",
      "3           megzy123      1\n",
      "4        lamborghin1      1\n",
      "...              ...    ...\n",
      "669874    10redtux10      1\n",
      "669875     infrared1      1\n",
      "669876  184520socram      1\n",
      "669877     marken22a      1\n",
      "669878      fxx4pw4g      1\n",
      "\n",
      "[669879 rows x 2 columns]\n"
     ]
    }
   ],
   "source": [
    "file = \"---\\\\Kaggle - password strenght classifier\\\\password_data.csv\"\n",
    "\n",
    "# Initialize empty lists to store passwords and labels\n",
    "passwords = []\n",
    "labels = []\n",
    "\n",
    "# Read the file line by line\n",
    "with open(file, \"r\", encoding= \"utf-8\") as f:\n",
    "    f.readline()  # skip the header line\n",
    "    for line in f:\n",
    "        # Split the line by the last comma\n",
    "        password, label = line.rsplit(\",\", 1)\n",
    "        \n",
    "        # Append the extracted password and label to the lists\n",
    "        passwords.append(password)\n",
    "        labels.append(int(label.strip()))  # Convert label to integer and remove any extra spaces or newlines\n",
    "\n",
    "# Create a pandas DataFrame\n",
    "df = pd.DataFrame({\n",
    "    \"Password\": passwords,\n",
    "    \"Label\": labels\n",
    "})\n",
    "\n",
    "print(df)\n"
   ]
  },
  {
   "cell_type": "code",
   "execution_count": 3,
   "metadata": {},
   "outputs": [
    {
     "name": "stderr",
     "output_type": "stream",
     "text": [
      "[nltk_data] Downloading package punkt to\n",
      "[nltk_data]     C:\\Users\\User\\AppData\\Roaming\\nltk_data...\n",
      "[nltk_data]   Package punkt is already up-to-date!\n",
      "[nltk_data] Downloading package averaged_perceptron_tagger to\n",
      "[nltk_data]     C:\\Users\\User\\AppData\\Roaming\\nltk_data...\n",
      "[nltk_data]   Package averaged_perceptron_tagger is already up-to-\n",
      "[nltk_data]       date!\n"
     ]
    },
    {
     "data": {
      "text/plain": [
       "True"
      ]
     },
     "execution_count": 3,
     "metadata": {},
     "output_type": "execute_result"
    }
   ],
   "source": [
    "# download nltk's packages \n",
    "nltk.download('punkt')\n",
    "nltk.download('averaged_perceptron_tagger')\n"
   ]
  },
  {
   "cell_type": "markdown",
   "metadata": {},
   "source": [
    "### Feature engineering"
   ]
  },
  {
   "cell_type": "code",
   "execution_count": 4,
   "metadata": {},
   "outputs": [],
   "source": [
    "# Basic Features\n",
    "df['length'] = df['Password'].apply(len)\n",
    "df['unique_chars'] = df['Password'].apply(lambda x: len(set(x)))\n",
    "\n",
    "\"\"\" \n",
    "# PoS Tag Information\n",
    "def get_pos_tags(password):\n",
    "    words = word_tokenize(password)\n",
    "    pos_tags = pos_tag(words)\n",
    "    return [tag for word, tag in pos_tags]\n",
    "\n",
    "df['pos_tags'] = df['Password'].apply(get_pos_tags)\n",
    "\"\"\"\n",
    "\n",
    "# Punctuation Count\n",
    "df['punctuation_count'] = df['Password'].apply(lambda x: sum(1 for c in x if c in string.punctuation))\n",
    "\n",
    "# Digit Count\n",
    "df['digit_count'] = df['Password'].apply(lambda x: sum(1 for c in x if c.isdigit()))\n",
    "\n",
    "# Contains Lowercase\n",
    "df['contains_lowercase'] = df['Password'].apply(lambda x: any(c.islower() for c in x))\n",
    "\n",
    "# Contains Uppercase\n",
    "df['contains_uppercase'] = df['Password'].apply(lambda x: any(c.isupper() for c in x))\n",
    "\n"
   ]
  },
  {
   "cell_type": "markdown",
   "metadata": {},
   "source": [
    "### Data visualization"
   ]
  },
  {
   "cell_type": "code",
   "execution_count": 5,
   "metadata": {},
   "outputs": [
    {
     "data": {
      "text/html": [
       "<div>\n",
       "<style scoped>\n",
       "    .dataframe tbody tr th:only-of-type {\n",
       "        vertical-align: middle;\n",
       "    }\n",
       "\n",
       "    .dataframe tbody tr th {\n",
       "        vertical-align: top;\n",
       "    }\n",
       "\n",
       "    .dataframe thead th {\n",
       "        text-align: right;\n",
       "    }\n",
       "</style>\n",
       "<table border=\"1\" class=\"dataframe\">\n",
       "  <thead>\n",
       "    <tr style=\"text-align: right;\">\n",
       "      <th></th>\n",
       "      <th>Password</th>\n",
       "      <th>Label</th>\n",
       "      <th>length</th>\n",
       "      <th>unique_chars</th>\n",
       "      <th>punctuation_count</th>\n",
       "      <th>digit_count</th>\n",
       "      <th>contains_lowercase</th>\n",
       "      <th>contains_uppercase</th>\n",
       "    </tr>\n",
       "  </thead>\n",
       "  <tbody>\n",
       "    <tr>\n",
       "      <th>0</th>\n",
       "      <td>kzde5577</td>\n",
       "      <td>1</td>\n",
       "      <td>8</td>\n",
       "      <td>6</td>\n",
       "      <td>0</td>\n",
       "      <td>4</td>\n",
       "      <td>True</td>\n",
       "      <td>False</td>\n",
       "    </tr>\n",
       "    <tr>\n",
       "      <th>1</th>\n",
       "      <td>kino3434</td>\n",
       "      <td>1</td>\n",
       "      <td>8</td>\n",
       "      <td>6</td>\n",
       "      <td>0</td>\n",
       "      <td>4</td>\n",
       "      <td>True</td>\n",
       "      <td>False</td>\n",
       "    </tr>\n",
       "    <tr>\n",
       "      <th>2</th>\n",
       "      <td>visi7k1yr</td>\n",
       "      <td>1</td>\n",
       "      <td>9</td>\n",
       "      <td>8</td>\n",
       "      <td>0</td>\n",
       "      <td>2</td>\n",
       "      <td>True</td>\n",
       "      <td>False</td>\n",
       "    </tr>\n",
       "    <tr>\n",
       "      <th>3</th>\n",
       "      <td>megzy123</td>\n",
       "      <td>1</td>\n",
       "      <td>8</td>\n",
       "      <td>8</td>\n",
       "      <td>0</td>\n",
       "      <td>3</td>\n",
       "      <td>True</td>\n",
       "      <td>False</td>\n",
       "    </tr>\n",
       "    <tr>\n",
       "      <th>4</th>\n",
       "      <td>lamborghin1</td>\n",
       "      <td>1</td>\n",
       "      <td>11</td>\n",
       "      <td>11</td>\n",
       "      <td>0</td>\n",
       "      <td>1</td>\n",
       "      <td>True</td>\n",
       "      <td>False</td>\n",
       "    </tr>\n",
       "    <tr>\n",
       "      <th>5</th>\n",
       "      <td>AVYq1lDE4MgAZfNt</td>\n",
       "      <td>2</td>\n",
       "      <td>16</td>\n",
       "      <td>15</td>\n",
       "      <td>0</td>\n",
       "      <td>2</td>\n",
       "      <td>True</td>\n",
       "      <td>True</td>\n",
       "    </tr>\n",
       "    <tr>\n",
       "      <th>6</th>\n",
       "      <td>u6c8vhow</td>\n",
       "      <td>1</td>\n",
       "      <td>8</td>\n",
       "      <td>8</td>\n",
       "      <td>0</td>\n",
       "      <td>2</td>\n",
       "      <td>True</td>\n",
       "      <td>False</td>\n",
       "    </tr>\n",
       "    <tr>\n",
       "      <th>7</th>\n",
       "      <td>v1118714</td>\n",
       "      <td>1</td>\n",
       "      <td>8</td>\n",
       "      <td>5</td>\n",
       "      <td>0</td>\n",
       "      <td>7</td>\n",
       "      <td>True</td>\n",
       "      <td>False</td>\n",
       "    </tr>\n",
       "    <tr>\n",
       "      <th>8</th>\n",
       "      <td>universe2908</td>\n",
       "      <td>1</td>\n",
       "      <td>12</td>\n",
       "      <td>11</td>\n",
       "      <td>0</td>\n",
       "      <td>4</td>\n",
       "      <td>True</td>\n",
       "      <td>False</td>\n",
       "    </tr>\n",
       "    <tr>\n",
       "      <th>9</th>\n",
       "      <td>as326159</td>\n",
       "      <td>1</td>\n",
       "      <td>8</td>\n",
       "      <td>8</td>\n",
       "      <td>0</td>\n",
       "      <td>6</td>\n",
       "      <td>True</td>\n",
       "      <td>False</td>\n",
       "    </tr>\n",
       "  </tbody>\n",
       "</table>\n",
       "</div>"
      ],
      "text/plain": [
       "           Password  Label  length  unique_chars  punctuation_count  \\\n",
       "0          kzde5577      1       8             6                  0   \n",
       "1          kino3434      1       8             6                  0   \n",
       "2         visi7k1yr      1       9             8                  0   \n",
       "3          megzy123      1       8             8                  0   \n",
       "4       lamborghin1      1      11            11                  0   \n",
       "5  AVYq1lDE4MgAZfNt      2      16            15                  0   \n",
       "6          u6c8vhow      1       8             8                  0   \n",
       "7          v1118714      1       8             5                  0   \n",
       "8      universe2908      1      12            11                  0   \n",
       "9          as326159      1       8             8                  0   \n",
       "\n",
       "   digit_count  contains_lowercase  contains_uppercase  \n",
       "0            4                True               False  \n",
       "1            4                True               False  \n",
       "2            2                True               False  \n",
       "3            3                True               False  \n",
       "4            1                True               False  \n",
       "5            2                True                True  \n",
       "6            2                True               False  \n",
       "7            7                True               False  \n",
       "8            4                True               False  \n",
       "9            6                True               False  "
      ]
     },
     "execution_count": 5,
     "metadata": {},
     "output_type": "execute_result"
    }
   ],
   "source": [
    "df.head(10)"
   ]
  },
  {
   "cell_type": "markdown",
   "metadata": {},
   "source": [
    "Correlation matrix"
   ]
  },
  {
   "cell_type": "code",
   "execution_count": 6,
   "metadata": {},
   "outputs": [
    {
     "name": "stderr",
     "output_type": "stream",
     "text": [
      "C:\\Users\\User\\AppData\\Local\\Temp\\ipykernel_21192\\1235409892.py:5: FutureWarning: The default value of numeric_only in DataFrame.corr is deprecated. In a future version, it will default to False. Select only valid columns or specify the value of numeric_only to silence this warning.\n",
      "  corr = df.corr()\n"
     ]
    },
    {
     "data": {
      "image/png": "[encoded data removed]",
      "text/plain": [
       "<Figure size 640x480 with 2 Axes>"
      ]
     },
     "metadata": {},
     "output_type": "display_data"
    }
   ],
   "source": [
    "import matplotlib.pyplot as plt\n",
    "import seaborn as sns\n",
    "\n",
    "# Compute the correlation matrix\n",
    "corr = df.corr()\n",
    "\n",
    "# Generate a heatmap\n",
    "sns.heatmap(corr, annot=True, cmap='coolwarm')\n",
    "plt.show()\n"
   ]
  },
  {
   "cell_type": "code",
   "execution_count": 7,
   "metadata": {},
   "outputs": [
    {
     "name": "stdout",
     "output_type": "stream",
     "text": [
      "Class Counts:\n",
      "1    496801\n",
      "0     89702\n",
      "2     83376\n",
      "Name: Label, dtype: int64\n",
      "Class Proportions:\n",
      "1    0.741628\n",
      "0    0.133908\n",
      "2    0.124464\n",
      "Name: Label, dtype: float64\n"
     ]
    }
   ],
   "source": [
    "# count frequency of each label\n",
    "class_counts = df['Label'].value_counts()\n",
    "\n",
    "# total number of samples\n",
    "total_samples = len(df)\n",
    "\n",
    "# proportion of each class\n",
    "class_proportion = class_counts / total_samples\n",
    "\n",
    "print(f\"Class Counts:\\n{class_counts}\")\n",
    "print(f\"Class Proportions:\\n{class_proportion}\")"
   ]
  },
  {
   "cell_type": "markdown",
   "metadata": {},
   "source": [
    "### Preparing data for the MODEL"
   ]
  },
  {
   "cell_type": "code",
   "execution_count": 8,
   "metadata": {},
   "outputs": [],
   "source": [
    "\n",
    "X = df[['length', 'unique_chars', 'digit_count', 'punctuation_count', 'contains_lowercase', 'contains_uppercase']]\n",
    "y = df['Label'] # strength before\n",
    "\n",
    "\n"
   ]
  },
  {
   "cell_type": "markdown",
   "metadata": {},
   "source": [
    "Feature Importance from Tree-based Models"
   ]
  },
  {
   "cell_type": "code",
   "execution_count": 9,
   "metadata": {},
   "outputs": [
    {
     "name": "stdout",
     "output_type": "stream",
     "text": [
      "              Feature  Importance\n",
      "0              length    0.615190\n",
      "5  contains_uppercase    0.169620\n",
      "1        unique_chars    0.159085\n",
      "2         digit_count    0.028068\n",
      "3   punctuation_count    0.014670\n",
      "4  contains_lowercase    0.013367\n"
     ]
    }
   ],
   "source": [
    "from sklearn.ensemble import RandomForestClassifier\n",
    "\n",
    "# Initialize the model\n",
    "rf = RandomForestClassifier()\n",
    "\n",
    "# Fit the model\n",
    "rf.fit(X, y)\n",
    "\n",
    "# Get feature importances\n",
    "importances = rf.feature_importances_\n",
    "\n",
    "# Create a DataFrame for visualization\n",
    "feature_importance_df = pd.DataFrame({'Feature': X.columns, 'Importance': importances})\n",
    "\n",
    "# Sort the DataFrame by the importances\n",
    "feature_importance_df = feature_importance_df.sort_values('Importance', ascending=False)\n",
    "\n",
    "print(feature_importance_df)\n"
   ]
  },
  {
   "cell_type": "markdown",
   "metadata": {},
   "source": [
    "Recursive feature elimination"
   ]
  },
  {
   "cell_type": "code",
   "execution_count": 11,
   "metadata": {},
   "outputs": [
    {
     "name": "stderr",
     "output_type": "stream",
     "text": [
      "C:\\Users\\User\\AppData\\Local\\Packages\\PythonSoftwareFoundation.Python.3.10_qbz5n2kfra8p0\\LocalCache\\local-packages\\Python310\\site-packages\\sklearn\\linear_model\\_logistic.py:444: ConvergenceWarning: lbfgs failed to converge (status=1):\n",
      "STOP: TOTAL NO. of ITERATIONS REACHED LIMIT.\n",
      "\n",
      "Increase the number of iterations (max_iter) or scale the data as shown in:\n",
      "    https://scikit-learn.org/stable/modules/preprocessing.html\n",
      "Please also refer to the documentation for alternative solver options:\n",
      "    https://scikit-learn.org/stable/modules/linear_model.html#logistic-regression\n",
      "  n_iter_i = _check_optimize_result(\n",
      "C:\\Users\\User\\AppData\\Local\\Packages\\PythonSoftwareFoundation.Python.3.10_qbz5n2kfra8p0\\LocalCache\\local-packages\\Python310\\site-packages\\sklearn\\linear_model\\_logistic.py:444: ConvergenceWarning: lbfgs failed to converge (status=1):\n",
      "STOP: TOTAL NO. of ITERATIONS REACHED LIMIT.\n",
      "\n",
      "Increase the number of iterations (max_iter) or scale the data as shown in:\n",
      "    https://scikit-learn.org/stable/modules/preprocessing.html\n",
      "Please also refer to the documentation for alternative solver options:\n",
      "    https://scikit-learn.org/stable/modules/linear_model.html#logistic-regression\n",
      "  n_iter_i = _check_optimize_result(\n",
      "C:\\Users\\User\\AppData\\Local\\Packages\\PythonSoftwareFoundation.Python.3.10_qbz5n2kfra8p0\\LocalCache\\local-packages\\Python310\\site-packages\\sklearn\\linear_model\\_logistic.py:444: ConvergenceWarning: lbfgs failed to converge (status=1):\n",
      "STOP: TOTAL NO. of ITERATIONS REACHED LIMIT.\n",
      "\n",
      "Increase the number of iterations (max_iter) or scale the data as shown in:\n",
      "    https://scikit-learn.org/stable/modules/preprocessing.html\n",
      "Please also refer to the documentation for alternative solver options:\n",
      "    https://scikit-learn.org/stable/modules/linear_model.html#logistic-regression\n",
      "  n_iter_i = _check_optimize_result(\n"
     ]
    },
    {
     "name": "stdout",
     "output_type": "stream",
     "text": [
      "Num Features: 3\n",
      "Selected Features: [ True False False False  True  True]\n",
      "Feature Ranking: [1 4 3 2 1 1]\n"
     ]
    },
    {
     "name": "stderr",
     "output_type": "stream",
     "text": [
      "C:\\Users\\User\\AppData\\Local\\Packages\\PythonSoftwareFoundation.Python.3.10_qbz5n2kfra8p0\\LocalCache\\local-packages\\Python310\\site-packages\\sklearn\\linear_model\\_logistic.py:444: ConvergenceWarning: lbfgs failed to converge (status=1):\n",
      "STOP: TOTAL NO. of ITERATIONS REACHED LIMIT.\n",
      "\n",
      "Increase the number of iterations (max_iter) or scale the data as shown in:\n",
      "    https://scikit-learn.org/stable/modules/preprocessing.html\n",
      "Please also refer to the documentation for alternative solver options:\n",
      "    https://scikit-learn.org/stable/modules/linear_model.html#logistic-regression\n",
      "  n_iter_i = _check_optimize_result(\n"
     ]
    }
   ],
   "source": [
    "from sklearn.feature_selection import RFE\n",
    "from sklearn.linear_model import LogisticRegression\n",
    "\n",
    "# Initialize the model\n",
    "model = LogisticRegression()\n",
    "\n",
    "# Initialize RFE\n",
    "rfe = RFE(model, n_features_to_select=3)  # choose the top 3 features\n",
    "\n",
    "# Fit RFE\n",
    "fit = rfe.fit(X, y)\n",
    "\n",
    "# Print the ranking\n",
    "print(\"Num Features: %s\" % (fit.n_features_))\n",
    "print(\"Selected Features: %s\" % (fit.support_))\n",
    "print(\"Feature Ranking: %s\" % (fit.ranking_))\n"
   ]
  },
  {
   "cell_type": "markdown",
   "metadata": {},
   "source": [
    "### Train the model"
   ]
  },
  {
   "cell_type": "code",
   "execution_count": 12,
   "metadata": {},
   "outputs": [
    {
     "data": {
      "text/html": [
       "<style>#sk-container-id-1 {color: black;background-color: white;}#sk-container-id-1 pre{padding: 0;}#sk-container-id-1 div.sk-toggleable {background-color: white;}#sk-container-id-1 label.sk-toggleable__label {cursor: pointer;display: block;width: 100%;margin-bottom: 0;padding: 0.3em;box-sizing: border-box;text-align: center;}#sk-container-id-1 label.sk-toggleable__label-arrow:before {content: \"▸\";float: left;margin-right: 0.25em;color: #696969;}#sk-container-id-1 label.sk-toggleable__label-arrow:hover:before {color: black;}#sk-container-id-1 div.sk-estimator:hover label.sk-toggleable__label-arrow:before {color: black;}#sk-container-id-1 div.sk-toggleable__content {max-height: 0;max-width: 0;overflow: hidden;text-align: left;background-color: #f0f8ff;}#sk-container-id-1 div.sk-toggleable__content pre {margin: 0.2em;color: black;border-radius: 0.25em;background-color: #f0f8ff;}#sk-container-id-1 input.sk-toggleable__control:checked~div.sk-toggleable__content {max-height: 200px;max-width: 100%;overflow: auto;}#sk-container-id-1 input.sk-toggleable__control:checked~label.sk-toggleable__label-arrow:before {content: \"▾\";}#sk-container-id-1 div.sk-estimator input.sk-toggleable__control:checked~label.sk-toggleable__label {background-color: #d4ebff;}#sk-container-id-1 div.sk-label input.sk-toggleable__control:checked~label.sk-toggleable__label {background-color: #d4ebff;}#sk-container-id-1 input.sk-hidden--visually {border: 0;clip: rect(1px 1px 1px 1px);clip: rect(1px, 1px, 1px, 1px);height: 1px;margin: -1px;overflow: hidden;padding: 0;position: absolute;width: 1px;}#sk-container-id-1 div.sk-estimator {font-family: monospace;background-color: #f0f8ff;border: 1px dotted black;border-radius: 0.25em;box-sizing: border-box;margin-bottom: 0.5em;}#sk-container-id-1 div.sk-estimator:hover {background-color: #d4ebff;}#sk-container-id-1 div.sk-parallel-item::after {content: \"\";width: 100%;border-bottom: 1px solid gray;flex-grow: 1;}#sk-container-id-1 div.sk-label:hover label.sk-toggleable__label {background-color: #d4ebff;}#sk-container-id-1 div.sk-serial::before {content: \"\";position: absolute;border-left: 1px solid gray;box-sizing: border-box;top: 0;bottom: 0;left: 50%;z-index: 0;}#sk-container-id-1 div.sk-serial {display: flex;flex-direction: column;align-items: center;background-color: white;padding-right: 0.2em;padding-left: 0.2em;position: relative;}#sk-container-id-1 div.sk-item {position: relative;z-index: 1;}#sk-container-id-1 div.sk-parallel {display: flex;align-items: stretch;justify-content: center;background-color: white;position: relative;}#sk-container-id-1 div.sk-item::before, #sk-container-id-1 div.sk-parallel-item::before {content: \"\";position: absolute;border-left: 1px solid gray;box-sizing: border-box;top: 0;bottom: 0;left: 50%;z-index: -1;}#sk-container-id-1 div.sk-parallel-item {display: flex;flex-direction: column;z-index: 1;position: relative;background-color: white;}#sk-container-id-1 div.sk-parallel-item:first-child::after {align-self: flex-end;width: 50%;}#sk-container-id-1 div.sk-parallel-item:last-child::after {align-self: flex-start;width: 50%;}#sk-container-id-1 div.sk-parallel-item:only-child::after {width: 0;}#sk-container-id-1 div.sk-dashed-wrapped {border: 1px dashed gray;margin: 0 0.4em 0.5em 0.4em;box-sizing: border-box;padding-bottom: 0.4em;background-color: white;}#sk-container-id-1 div.sk-label label {font-family: monospace;font-weight: bold;display: inline-block;line-height: 1.2em;}#sk-container-id-1 div.sk-label-container {text-align: center;}#sk-container-id-1 div.sk-container {/* jupyter's `normalize.less` sets `[hidden] { display: none; }` but bootstrap.min.css set `[hidden] { display: none !important; }` so we also need the `!important` here to be able to override the default hidden behavior on the sphinx rendered scikit-learn.org. See: https://github.com/scikit-learn/scikit-learn/issues/21755 */display: inline-block !important;position: relative;}#sk-container-id-1 div.sk-text-repr-fallback {display: none;}</style><div id=\"sk-container-id-1\" class=\"sk-top-container\"><div class=\"sk-text-repr-fallback\"><pre>RandomForestClassifier(max_depth=4)</pre><b>In a Jupyter environment, please rerun this cell to show the HTML representation or trust the notebook. <br />On GitHub, the HTML representation is unable to render, please try loading this page with nbviewer.org.</b></div><div class=\"sk-container\" hidden><div class=\"sk-item\"><div class=\"sk-estimator sk-toggleable\"><input class=\"sk-toggleable__control sk-hidden--visually\" id=\"sk-estimator-id-1\" type=\"checkbox\" checked><label for=\"sk-estimator-id-1\" class=\"sk-toggleable__label sk-toggleable__label-arrow\">RandomForestClassifier</label><div class=\"sk-toggleable__content\"><pre>RandomForestClassifier(max_depth=4)</pre></div></div></div></div></div>"
      ],
      "text/plain": [
       "RandomForestClassifier(max_depth=4)"
      ]
     },
     "execution_count": 12,
     "metadata": {},
     "output_type": "execute_result"
    }
   ],
   "source": [
    "\n",
    "# Split the data\n",
    "X_train, X_test, y_train, y_test = train_test_split(X, y, test_size=0.8, random_state=42)\n",
    "\n",
    "# Train a RandomForestClassifier\n",
    "clf = RandomForestClassifier(n_estimators=100, max_depth= 4)\n",
    "clf.fit(X_train, y_train)"
   ]
  },
  {
   "cell_type": "markdown",
   "metadata": {},
   "source": [
    "### MAKE PREDICTIONS"
   ]
  },
  {
   "cell_type": "code",
   "execution_count": 13,
   "metadata": {},
   "outputs": [
    {
     "name": "stdout",
     "output_type": "stream",
     "text": [
      "Accuracy: 1.0\n",
      "              precision    recall  f1-score   support\n",
      "\n",
      "           0       1.00      1.00      1.00     71708\n",
      "           1       1.00      1.00      1.00    397399\n",
      "           2       1.00      1.00      1.00     66797\n",
      "\n",
      "    accuracy                           1.00    535904\n",
      "   macro avg       1.00      1.00      1.00    535904\n",
      "weighted avg       1.00      1.00      1.00    535904\n",
      "\n"
     ]
    },
    {
     "data": {
      "image/png": "[encoded data removed]",
      "text/plain": [
       "<Figure size 800x600 with 2 Axes>"
      ]
     },
     "metadata": {},
     "output_type": "display_data"
    }
   ],
   "source": [
    "# Predict and evaluate\n",
    "y_pred = clf.predict(X_test)\n",
    "print(f\"Accuracy: {accuracy_score(y_test, y_pred)}\")\n",
    "print(classification_report(y_test, y_pred))\n",
    "\n",
    "# Confusion Matrix\n",
    "cm = confusion_matrix(y_test, y_pred)\n",
    "plt.figure(figsize=(8, 6))\n",
    "sns.heatmap(cm, annot=True, fmt='g', cmap='Blues', xticklabels=[0, 1, 2], yticklabels=[0, 1, 2])\n",
    "plt.xlabel('Predicted')\n",
    "plt.ylabel('True')\n",
    "plt.title('Confusion Matrix')\n",
    "plt.show()\n"
   ]
  },
  {
   "cell_type": "code",
   "execution_count": 14,
   "metadata": {},
   "outputs": [
    {
     "name": "stdout",
     "output_type": "stream",
     "text": [
      "False Negatives:\n",
      "Empty DataFrame\n",
      "Columns: [True_Labels, Predicted_Labels]\n",
      "Index: []\n",
      "False Positives:\n",
      "Empty DataFrame\n",
      "Columns: [True_Labels, Predicted_Labels]\n",
      "Index: []\n"
     ]
    }
   ],
   "source": [
    "# Identify false positives and false negatives\n",
    "eval_df = pd.DataFrame({\n",
    "    'True_Labels': y_test,\n",
    "    'Predicted_Labels': y_pred\n",
    "})\n",
    "\n",
    "false_negatives = eval_df[(eval_df['True_Labels'] == 1) & (eval_df['Predicted_Labels'] == 0)]\n",
    "false_positives = eval_df[(eval_df['True_Labels'] == 0) & (eval_df['Predicted_Labels'] == 1)]\n",
    "\n",
    "print(\"False Negatives:\")\n",
    "print(false_negatives)\n",
    "\n",
    "print(\"False Positives:\")\n",
    "print(false_positives)\n"
   ]
  },
  {
   "cell_type": "markdown",
   "metadata": {},
   "source": [
    "### Check the level of security of your own password"
   ]
  },
  {
   "cell_type": "code",
   "execution_count": null,
   "metadata": {},
   "outputs": [
    {
     "name": "stdout",
     "output_type": "stream",
     "text": [
      "The predicted strength of the password is: 1\n"
     ]
    }
   ],
   "source": [
    "import pandas as pd\n",
    "import string\n",
    "\n",
    "# Assuming you have already defined your machine learning model 'clf'\n",
    "\n",
    "# Function to preprocess and predict password strength\n",
    "def predict_password_strength(password, model):\n",
    "    length = len(password)\n",
    "    unique_chars = len(set(password))\n",
    "    \n",
    "    # Calculate digit count\n",
    "    digit_count = sum(1 for c in password if c.isdigit())\n",
    "    \n",
    "    # Calculate punctuation count\n",
    "    punctuation_count = sum(1 for c in password if c in string.punctuation)\n",
    "    \n",
    "    # Check if password contains lowercase and uppercase characters\n",
    "    contains_lowercase = any(c.islower() for c in password)\n",
    "    contains_uppercase = any(c.isupper() for c in password)\n",
    "    \n",
    "    # Create a DataFrame with the features\n",
    "    input_df = pd.DataFrame({\n",
    "        'length': [length],\n",
    "        'unique_chars': [unique_chars],\n",
    "        'digit_count': [digit_count],\n",
    "        'punctuation_count': [punctuation_count],\n",
    "        'contains_lowercase': [contains_lowercase],\n",
    "        'contains_uppercase': [contains_uppercase]\n",
    "    })\n",
    "    \n",
    "    # Use the model to make a prediction\n",
    "    prediction = model.predict(input_df)\n",
    "    \n",
    "    return prediction[0]\n",
    "\n",
    "# Ask the user for a password\n",
    "user_input = input(\"Please enter a password to check its strength: \")\n",
    "\n",
    "# Predict the strength of the entered password\n",
    "predicted_strength = predict_password_strength(user_input, clf)\n",
    "\n",
    "# Output the result\n",
    "print(f\"The predicted strength of the password is: {predicted_strength}\")\n"
   ]
  },
  {
   "cell_type": "code",
   "execution_count": null,
   "metadata": {},
   "outputs": [],
   "source": []
  },
  {
   "cell_type": "markdown",
   "metadata": {},
   "source": [
    "# Let's load more data and predict on it"
   ]
  },
  {
   "cell_type": "markdown",
   "metadata": {},
   "source": [
    "preprocess both files"
   ]
  },
  {
   "cell_type": "code",
   "execution_count": 26,
   "metadata": {},
   "outputs": [
    {
     "name": "stdout",
     "output_type": "stream",
     "text": [
      "            Password  Label\n",
      "0           kzde5577      1\n",
      "1           kino3434      1\n",
      "2          visi7k1yr      1\n",
      "3           megzy123      1\n",
      "4        lamborghin1      1\n",
      "...              ...    ...\n",
      "669874    10redtux10      1\n",
      "669875     infrared1      1\n",
      "669876  184520socram      1\n",
      "669877     marken22a      1\n",
      "669878      fxx4pw4g      1\n",
      "\n",
      "[669879 rows x 2 columns]\n"
     ]
    }
   ],
   "source": [
    "\n",
    "import csv\n",
    "# Read the CSV file\n",
    "file1 =  '---\\\\Kaggle - password strenght classifier\\\\data-common-pass.csv'\n",
    "\n",
    "# Initialize empty lists to store passwords and labels\n",
    "passwords = []\n",
    "labels = []\n",
    "\n",
    "# Read the file line by line\n",
    "with open(file1, \"r\", encoding= \"utf-8\") as f:\n",
    "    f.readline()  # skip the header line\n",
    "    for line in f:\n",
    "        # Split the line by the last comma\n",
    "        password, label = line.rsplit(\",\", 1)\n",
    "        \n",
    "        # Append the extracted password and label to the lists\n",
    "        passwords.append(password)\n",
    "        labels.append(int(label.strip()))  # Convert label to integer and remove any extra spaces or newlines\n",
    "\n",
    "# Create a pandas DataFrame\n",
    "df1 = pd.DataFrame({\n",
    "    \"Password\": passwords,\n",
    "    \"Label\": labels\n",
    "})\n",
    "\n",
    "print(df1)\n"
   ]
  },
  {
   "cell_type": "code",
   "execution_count": 27,
   "metadata": {},
   "outputs": [
    {
     "name": "stdout",
     "output_type": "stream",
     "text": [
      "       Password  Label\n",
      "0        123456      0\n",
      "1      password      0\n",
      "2      lizottes      1\n",
      "3     password1      0\n",
      "4     123456789      0\n",
      "...         ...    ...\n",
      "9795   hongngoc      1\n",
      "9796    anhtien      1\n",
      "9797   lanhuong      1\n",
      "9798   congacon      1\n",
      "9799   conmemay      1\n",
      "\n",
      "[9800 rows x 2 columns]\n"
     ]
    }
   ],
   "source": [
    "file2 = \"C:\\\\Users\\\\User\\\\OneDrive\\\\Desktop\\\\Kaggle - password strenght classifier\\\\top_200_password_2020_by_country.csv\"\n",
    "\n",
    "data = pd.read_csv(file2, encoding= \"utf-8\", sep = \",\")\n",
    "\n",
    "# Create the original DataFrame\n",
    "df = pd.DataFrame(data)\n",
    "\n",
    "# Create df2 with Password and Label columns\n",
    "df2 = pd.DataFrame({'Password': df['Password']})\n",
    "\n",
    "# Define a function to calculate the label\n",
    "def calculate_label(time_to_crack_seconds):\n",
    "    if time_to_crack_seconds < 1020:\n",
    "        return 0\n",
    "    elif 1020 <= time_to_crack_seconds <= 800000:\n",
    "        return 1\n",
    "    else:\n",
    "        return 2\n",
    "\n",
    "# Apply the function to calculate the Label column based on Time_to_crack_in_seconds\n",
    "df2['Label'] = df['Time_to_crack_in_seconds'].apply(calculate_label)\n",
    "\n",
    "# Display the resulting df2\n",
    "print(df2)\n"
   ]
  },
  {
   "cell_type": "code",
   "execution_count": 29,
   "metadata": {},
   "outputs": [
    {
     "data": {
      "text/plain": [
       "679679"
      ]
     },
     "execution_count": 29,
     "metadata": {},
     "output_type": "execute_result"
    }
   ],
   "source": [
    "\n",
    "# Concatenate the DataFrames\n",
    "combined_df = pd.concat([df1, df2], ignore_index=True)\n"
   ]
  },
  {
   "cell_type": "code",
   "execution_count": 31,
   "metadata": {},
   "outputs": [],
   "source": [
    "# 'Password' column \n",
    "combined_df['predicted_label'] = combined_df['Password'].apply(lambda x: predict_password_strength(x, clf))\n",
    "\n"
   ]
  },
  {
   "cell_type": "code",
   "execution_count": 32,
   "metadata": {},
   "outputs": [
    {
     "data": {
      "image/png": "[encoded data removed]",
      "text/plain": [
       "<Figure size 800x600 with 2 Axes>"
      ]
     },
     "metadata": {},
     "output_type": "display_data"
    }
   ],
   "source": [
    "confusion_mat = confusion_matrix(combined_df['Label'], combined_df['predicted_label'])\n",
    "# Create a heatmap of the confusion matrix\n",
    "plt.figure(figsize=(8, 6))\n",
    "sns.heatmap(confusion_mat, annot=True, fmt='d', cmap='Blues')\n",
    "plt.xlabel('Predicted Labels')\n",
    "plt.ylabel('Actual Labels')\n",
    "plt.title('Confusion Matrix')\n",
    "plt.show()\n"
   ]
  },
  {
   "cell_type": "code",
   "execution_count": 33,
   "metadata": {},
   "outputs": [
    {
     "name": "stdout",
     "output_type": "stream",
     "text": [
      "              precision    recall  f1-score   support\n",
      "\n",
      "           0       0.99      0.98      0.98     97095\n",
      "           1       1.00      1.00      1.00    498989\n",
      "           2       1.00      1.00      1.00     83595\n",
      "\n",
      "    accuracy                           0.99    679679\n",
      "   macro avg       1.00      0.99      0.99    679679\n",
      "weighted avg       0.99      0.99      0.99    679679\n",
      "\n"
     ]
    }
   ],
   "source": [
    "print(classification_report(combined_df['Label'], combined_df['predicted_label']))\n",
    "\n"
   ]
  },
  {
   "cell_type": "code",
   "execution_count": 42,
   "metadata": {},
   "outputs": [
    {
     "data": {
      "text/plain": [
       "679679"
      ]
     },
     "execution_count": 42,
     "metadata": {},
     "output_type": "execute_result"
    }
   ],
   "source": [
    "len(combined_df)"
   ]
  },
  {
   "cell_type": "code",
   "execution_count": 35,
   "metadata": {},
   "outputs": [],
   "source": [
    "\n",
    "# False negatives for class 0\n",
    "false_negatives_class0 = combined_df[(combined_df['Label'] == 0) & (combined_df['predicted_label'] == 1)]\n",
    "\n",
    "# False positives for class 0\n",
    "false_positives_class0 = combined_df[(combined_df['Label'] == 1) & (combined_df['predicted_label'] == 0)]\n",
    "\n",
    "# if you want them for the rest of the classes, repeat this process  for classes 1 and 2"
   ]
  },
  {
   "cell_type": "code",
   "execution_count": 41,
   "metadata": {},
   "outputs": [
    {
     "name": "stdout",
     "output_type": "stream",
     "text": [
      "--------------\n",
      "False negatives CLASS 0\n",
      "           Password  Label  predicted_label\n",
      "669882   password1      0                1\n",
      "669883   123456789      0                1\n",
      "669887    12345678      0                1\n",
      "669895  1234567890      0                1\n",
      "\n",
      "False positives CLASS 0\n",
      "        Password  Label  predicted_label\n",
      "669927  william      1                0\n",
      "669934  holden1      1                0\n",
      "669942  jackson      1                0\n",
      "669967  anthony      1                0\n"
     ]
    }
   ],
   "source": [
    "print(\"--------------\")\n",
    "print(\"False negatives CLASS 0\\n\", false_negatives_class0[1:5])\n",
    "print(\"\\nFalse positives CLASS 0\\n\", false_positives_class0[1:5] )\n",
    "\n"
   ]
  }
 ],
 "metadata": {
  "kernelspec": {
   "display_name": "Python 3",
   "language": "python",
   "name": "python3"
  },
  "language_info": {
   "codemirror_mode": {
    "name": "ipython",
    "version": 3
   },
   "file_extension": ".py",
   "mimetype": "text/x-python",
   "name": "python",
   "nbconvert_exporter": "python",
   "pygments_lexer": "ipython3",
   "version": "3.10.11"
  }
 },
 "nbformat": 4,
 "nbformat_minor": 2
}
